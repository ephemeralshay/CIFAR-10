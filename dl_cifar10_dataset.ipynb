{
 "cells": [
  {
   "cell_type": "markdown",
   "metadata": {},
   "source": [
    "<h2 align=\"center\"><strong>Image Classification with CIFAR10 dataset<strong></h2>"
   ]
  },
  {
   "cell_type": "code",
   "execution_count": 26,
   "metadata": {},
   "outputs": [],
   "source": [
    "import tensorflow as tf\n",
    "from tensorflow.keras import datasets, layers, models\n",
    "import matplotlib.pyplot as plt\n",
    "import numpy as np"
   ]
  },
  {
   "cell_type": "markdown",
   "metadata": {},
   "source": [
    "<h4><strong>Loading the Data</strong></h4>"
   ]
  },
  {
   "cell_type": "code",
   "execution_count": 27,
   "metadata": {},
   "outputs": [
    {
     "data": {
      "text/plain": [
       "(50000, 32, 32, 3)"
      ]
     },
     "execution_count": 27,
     "metadata": {},
     "output_type": "execute_result"
    }
   ],
   "source": [
    "(X_train, y_train), (X_test,y_test) = datasets.cifar10.load_data()\n",
    "X_train.shape"
   ]
  },
  {
   "cell_type": "code",
   "execution_count": 28,
   "metadata": {},
   "outputs": [
    {
     "data": {
      "text/plain": [
       "(10000, 32, 32, 3)"
      ]
     },
     "execution_count": 28,
     "metadata": {},
     "output_type": "execute_result"
    }
   ],
   "source": [
    "X_test.shape"
   ]
  },
  {
   "cell_type": "markdown",
   "metadata": {},
   "source": [
    "<i>We have 50000 training images and 10000 test images</i>"
   ]
  },
  {
   "cell_type": "code",
   "execution_count": 29,
   "metadata": {},
   "outputs": [
    {
     "data": {
      "text/plain": [
       "(50000, 1)"
      ]
     },
     "execution_count": 29,
     "metadata": {},
     "output_type": "execute_result"
    }
   ],
   "source": [
    "y_train.shape"
   ]
  },
  {
   "cell_type": "code",
   "execution_count": 30,
   "metadata": {},
   "outputs": [
    {
     "data": {
      "text/plain": [
       "array([[6],\n",
       "       [9],\n",
       "       [9],\n",
       "       [4],\n",
       "       [1]], dtype=uint8)"
      ]
     },
     "execution_count": 30,
     "metadata": {},
     "output_type": "execute_result"
    }
   ],
   "source": [
    "y_train[:5]"
   ]
  },
  {
   "cell_type": "markdown",
   "metadata": {},
   "source": [
    "<i>y_train is a 2D array, for but our purpose we require 1D array to feed the neurons. So we will convert y_train into a 1D array</i>"
   ]
  },
  {
   "cell_type": "code",
   "execution_count": 31,
   "metadata": {
    "scrolled": true
   },
   "outputs": [
    {
     "data": {
      "text/plain": [
       "array([6, 9, 9, 4, 1], dtype=uint8)"
      ]
     },
     "execution_count": 31,
     "metadata": {},
     "output_type": "execute_result"
    }
   ],
   "source": [
    "y_train = y_train.reshape(-1,)\n",
    "y_train[:5]"
   ]
  },
  {
   "cell_type": "code",
   "execution_count": 32,
   "metadata": {},
   "outputs": [],
   "source": [
    "y_test = y_test.reshape(-1,)"
   ]
  },
  {
   "cell_type": "code",
   "execution_count": 33,
   "metadata": {},
   "outputs": [],
   "source": [
    "classes = [\"airplane\",\"automobile\",\"bird\",\"cat\",\"deer\",\"dog\",\"frog\",\"horse\",\"ship\",\"truck\"]"
   ]
  },
  {
   "cell_type": "markdown",
   "metadata": {},
   "source": [
    "<h4><strong>Data Visualization</strong></h4>"
   ]
  },
  {
   "cell_type": "code",
   "execution_count": 34,
   "metadata": {},
   "outputs": [],
   "source": [
    "def plot_sample(X, y, index):\n",
    "    plt.figure(figsize = (15,2))\n",
    "    plt.imshow(X[index])\n",
    "    plt.xlabel(classes[y[index]])"
   ]
  },
  {
   "cell_type": "code",
   "execution_count": 35,
   "metadata": {
    "scrolled": true
   },
   "outputs": [
    {
     "data": {
      "image/png": "[encoded data removed]",
      "text/plain": [
       "<Figure size 1080x144 with 1 Axes>"
      ]
     },
     "metadata": {
      "needs_background": "light"
     },
     "output_type": "display_data"
    }
   ],
   "source": [
    "plot_sample(X_train, y_train, 0)"
   ]
  },
  {
   "cell_type": "code",
   "execution_count": 36,
   "metadata": {},
   "outputs": [
    {
     "data": {
      "image/png": "[encoded data removed]",
      "text/plain": [
       "<Figure size 1080x144 with 1 Axes>"
      ]
     },
     "metadata": {
      "needs_background": "light"
     },
     "output_type": "display_data"
    }
   ],
   "source": [
    "plot_sample(X_train, y_train, 1)"
   ]
  },
  {
   "cell_type": "markdown",
   "metadata": {},
   "source": [
    "<h4><strong>Data Preprocessing</strong></h4>"
   ]
  },
  {
   "cell_type": "markdown",
   "metadata": {},
   "source": [
    "<i>Image has 3 channels (R,G,B) and each value in the channel can range from 0 to 255. Hence to normalize in 0 to 1 range, we need to divide it by 255. Normalization increases the accuracy of the model</i>"
   ]
  },
  {
   "cell_type": "code",
   "execution_count": 37,
   "metadata": {},
   "outputs": [],
   "source": [
    "X_train = X_train / 255.0\n",
    "X_test = X_test / 255.0"
   ]
  },
  {
   "cell_type": "markdown",
   "metadata": {},
   "source": [
    "<h4><strong>Building a Artificial Neural Network for Image Classification</strong></h4>"
   ]
  },
  {
   "cell_type": "code",
   "execution_count": 38,
   "metadata": {
    "scrolled": true
   },
   "outputs": [],
   "source": [
    "def get_model():\n",
    "    ann = models.Sequential([\n",
    "            layers.Flatten(input_shape=(32,32,3)),\n",
    "            layers.Dense(3000, activation='relu'),\n",
    "            layers.Dense(1000, activation='relu'),\n",
    "            layers.Dense(10, activation='softmax')    \n",
    "        ])\n",
    "\n",
    "    ann.compile(optimizer='SGD',\n",
    "                loss='sparse_categorical_crossentropy',\n",
    "                metrics=['accuracy'])\n",
    "    return ann"
   ]
  },
  {
   "cell_type": "markdown",
   "metadata": {},
   "source": [
    "<h4><strong>GPU/CPU Benchmarking - Measuring the training time</strong></h4>"
   ]
  },
  {
   "cell_type": "code",
   "execution_count": 39,
   "metadata": {},
   "outputs": [
    {
     "data": {
      "text/plain": [
       "[PhysicalDevice(name='/physical_device:CPU:0', device_type='CPU'),\n",
       " PhysicalDevice(name='/physical_device:GPU:0', device_type='GPU')]"
      ]
     },
     "execution_count": 39,
     "metadata": {},
     "output_type": "execute_result"
    }
   ],
   "source": [
    "tf.config.experimental.list_physical_devices()"
   ]
  },
  {
   "cell_type": "code",
   "execution_count": 40,
   "metadata": {},
   "outputs": [
    {
     "data": {
      "text/plain": [
       "True"
      ]
     },
     "execution_count": 40,
     "metadata": {},
     "output_type": "execute_result"
    }
   ],
   "source": [
    "tf.test.is_built_with_cuda()"
   ]
  },
  {
   "cell_type": "markdown",
   "metadata": {},
   "source": [
    "<i>Training on CPU - Ryzen 7 5800h</i>"
   ]
  },
  {
   "cell_type": "code",
   "execution_count": 56,
   "metadata": {},
   "outputs": [
    {
     "name": "stdout",
     "output_type": "stream",
     "text": [
      "Epoch 1/20\n",
      "1563/1563 [==============================] - 53s 34ms/step - loss: 1.8119 - accuracy: 0.3544\n",
      "Epoch 2/20\n",
      "1563/1563 [==============================] - 52s 33ms/step - loss: 1.6224 - accuracy: 0.4270\n",
      "Epoch 3/20\n",
      "1563/1563 [==============================] - 52s 33ms/step - loss: 1.5413 - accuracy: 0.4571\n",
      "Epoch 4/20\n",
      "1563/1563 [==============================] - 52s 33ms/step - loss: 1.4822 - accuracy: 0.4773\n",
      "Epoch 5/20\n",
      "1563/1563 [==============================] - 52s 33ms/step - loss: 1.4325 - accuracy: 0.4936\n",
      "Epoch 6/20\n",
      "1563/1563 [==============================] - 53s 34ms/step - loss: 1.3901 - accuracy: 0.5106\n",
      "Epoch 7/20\n",
      "1563/1563 [==============================] - 50s 32ms/step - loss: 1.3506 - accuracy: 0.5226\n",
      "Epoch 8/20\n",
      "1563/1563 [==============================] - 52s 33ms/step - loss: 1.3174 - accuracy: 0.5352\n",
      "Epoch 9/20\n",
      "1563/1563 [==============================] - 52s 33ms/step - loss: 1.2823 - accuracy: 0.5503\n",
      "Epoch 10/20\n",
      "1563/1563 [==============================] - 52s 33ms/step - loss: 1.2511 - accuracy: 0.5606\n",
      "Epoch 11/20\n",
      "1563/1563 [==============================] - 52s 33ms/step - loss: 1.2207 - accuracy: 0.5723\n",
      "Epoch 12/20\n",
      "1563/1563 [==============================] - 52s 33ms/step - loss: 1.1916 - accuracy: 0.5832\n",
      "Epoch 13/20\n",
      "1563/1563 [==============================] - 52s 33ms/step - loss: 1.1644 - accuracy: 0.5917\n",
      "Epoch 14/20\n",
      "1563/1563 [==============================] - 51s 33ms/step - loss: 1.1379 - accuracy: 0.6025\n",
      "Epoch 15/20\n",
      "1563/1563 [==============================] - 52s 33ms/step - loss: 1.1108 - accuracy: 0.6124\n",
      "Epoch 16/20\n",
      "1563/1563 [==============================] - 52s 33ms/step - loss: 1.0850 - accuracy: 0.6208\n",
      "Epoch 17/20\n",
      "1563/1563 [==============================] - 52s 33ms/step - loss: 1.0582 - accuracy: 0.6319\n",
      "Epoch 18/20\n",
      "1563/1563 [==============================] - 52s 33ms/step - loss: 1.0334 - accuracy: 0.6408\n",
      "Epoch 19/20\n",
      "1563/1563 [==============================] - 52s 33ms/step - loss: 1.0048 - accuracy: 0.6507\n",
      "Epoch 20/20\n",
      "1563/1563 [==============================] - 53s 34ms/step - loss: 0.9794 - accuracy: 0.6602\n",
      "17min 19s ± 0 ns per loop (mean ± std. dev. of 1 run, 1 loop each)\n"
     ]
    }
   ],
   "source": [
    "%%timeit -n1 -r1 \n",
    "with tf.device('/CPU:0'):\n",
    "    cpu_model = get_model()\n",
    "    cpu_model.fit(X_train, y_train, epochs=20)"
   ]
  },
  {
   "cell_type": "markdown",
   "metadata": {},
   "source": [
    "<i>Training on GPU - Nvidia RTX 3060</i>"
   ]
  },
  {
   "cell_type": "code",
   "execution_count": 58,
   "metadata": {},
   "outputs": [
    {
     "name": "stdout",
     "output_type": "stream",
     "text": [
      "Epoch 1/20\n",
      "1563/1563 [==============================] - 5s 3ms/step - loss: 1.8122 - accuracy: 0.3544\n",
      "Epoch 2/20\n",
      "1563/1563 [==============================] - 5s 3ms/step - loss: 1.6227 - accuracy: 0.4262\n",
      "Epoch 3/20\n",
      "1563/1563 [==============================] - 4s 3ms/step - loss: 1.5395 - accuracy: 0.4599\n",
      "Epoch 4/20\n",
      "1563/1563 [==============================] - 4s 3ms/step - loss: 1.4797 - accuracy: 0.4799\n",
      "Epoch 5/20\n",
      "1563/1563 [==============================] - 4s 3ms/step - loss: 1.4293 - accuracy: 0.4965\n",
      "Epoch 6/20\n",
      "1563/1563 [==============================] - 5s 3ms/step - loss: 1.3865 - accuracy: 0.5118\n",
      "Epoch 7/20\n",
      "1563/1563 [==============================] - 5s 3ms/step - loss: 1.3490 - accuracy: 0.5256\n",
      "Epoch 8/20\n",
      "1563/1563 [==============================] - 4s 3ms/step - loss: 1.3133 - accuracy: 0.5382\n",
      "Epoch 9/20\n",
      "1563/1563 [==============================] - 4s 3ms/step - loss: 1.2834 - accuracy: 0.5507\n",
      "Epoch 10/20\n",
      "1563/1563 [==============================] - 4s 3ms/step - loss: 1.2516 - accuracy: 0.5603\n",
      "Epoch 11/20\n",
      "1563/1563 [==============================] - 5s 3ms/step - loss: 1.2200 - accuracy: 0.5741\n",
      "Epoch 12/20\n",
      "1563/1563 [==============================] - 5s 3ms/step - loss: 1.1948 - accuracy: 0.5822\n",
      "Epoch 13/20\n",
      "1563/1563 [==============================] - 5s 3ms/step - loss: 1.1653 - accuracy: 0.5914\n",
      "Epoch 14/20\n",
      "1563/1563 [==============================] - 5s 3ms/step - loss: 1.1390 - accuracy: 0.6033\n",
      "Epoch 15/20\n",
      "1563/1563 [==============================] - 4s 3ms/step - loss: 1.1125 - accuracy: 0.6123\n",
      "Epoch 16/20\n",
      "1563/1563 [==============================] - 5s 3ms/step - loss: 1.0847 - accuracy: 0.6207\n",
      "Epoch 17/20\n",
      "1563/1563 [==============================] - 5s 3ms/step - loss: 1.0574 - accuracy: 0.6327\n",
      "Epoch 18/20\n",
      "1563/1563 [==============================] - 4s 3ms/step - loss: 1.0347 - accuracy: 0.6398\n",
      "Epoch 19/20\n",
      "1563/1563 [==============================] - 5s 3ms/step - loss: 1.0102 - accuracy: 0.6487\n",
      "Epoch 20/20\n",
      "1563/1563 [==============================] - 5s 3ms/step - loss: 0.9806 - accuracy: 0.6575\n",
      "1min 32s ± 0 ns per loop (mean ± std. dev. of 1 run, 1 loop each)\n"
     ]
    }
   ],
   "source": [
    "%%timeit -n1 -r1 \n",
    "with tf.device('/GPU:0'):\n",
    "    gpu_model = get_model()\n",
    "    gpu_model.fit(X_train, y_train, epochs=20)"
   ]
  },
  {
   "cell_type": "markdown",
   "metadata": {},
   "source": [
    "Here is the performance comparison for 20 epoch of training time on CPU and GPU.\n",
    "\n",
    "| Epoch | CPU | GPU  |\n",
    "|:------|:------|:------|\n",
    "| 20 | 17 min 19 sec | 1 min 33 sec |\n",
    "\n",
    "We can see that GPU training is almost 12 times faster than CPU training. "
   ]
  },
  {
   "cell_type": "markdown",
   "metadata": {},
   "source": [
    "<i>With ANN, we get an accuracy of 66% at the end of 20 epochs.</i>"
   ]
  },
  {
   "cell_type": "markdown",
   "metadata": {},
   "source": [
    "<h4><strong>Building a Convolutional Neural Network for Image classification</strong></h4>"
   ]
  },
  {
   "cell_type": "code",
   "execution_count": 43,
   "metadata": {},
   "outputs": [],
   "source": [
    "cnn = models.Sequential([\n",
    "    layers.Conv2D(filters=32, kernel_size=(3, 3), activation='relu', input_shape=(32, 32, 3)),\n",
    "    layers.MaxPooling2D((2, 2)),\n",
    "    \n",
    "    layers.Conv2D(filters=64, kernel_size=(3, 3), activation='relu'),\n",
    "    layers.MaxPooling2D((2, 2)),\n",
    "    \n",
    "    layers.Flatten(),\n",
    "    layers.Dense(64, activation='relu'),\n",
    "    layers.Dense(10, activation='softmax')\n",
    "])"
   ]
  },
  {
   "cell_type": "code",
   "execution_count": 44,
   "metadata": {},
   "outputs": [],
   "source": [
    "cnn.compile(optimizer='adam',\n",
    "            loss='sparse_categorical_crossentropy',\n",
    "            metrics=['accuracy'])"
   ]
  },
  {
   "cell_type": "code",
   "execution_count": 45,
   "metadata": {
    "scrolled": false
   },
   "outputs": [
    {
     "name": "stdout",
     "output_type": "stream",
     "text": [
      "Epoch 1/20\n",
      "1563/1563 [==============================] - 6s 4ms/step - loss: 1.4993 - accuracy: 0.4601\n",
      "Epoch 2/20\n",
      "1563/1563 [==============================] - 5s 3ms/step - loss: 1.1338 - accuracy: 0.6037\n",
      "Epoch 3/20\n",
      "1563/1563 [==============================] - 5s 3ms/step - loss: 1.0032 - accuracy: 0.6501\n",
      "Epoch 4/20\n",
      "1563/1563 [==============================] - 5s 4ms/step - loss: 0.9219 - accuracy: 0.6786\n",
      "Epoch 5/20\n",
      "1563/1563 [==============================] - 6s 4ms/step - loss: 0.8549 - accuracy: 0.7021\n",
      "Epoch 6/20\n",
      "1563/1563 [==============================] - 6s 4ms/step - loss: 0.8072 - accuracy: 0.7199\n",
      "Epoch 7/20\n",
      "1563/1563 [==============================] - 6s 4ms/step - loss: 0.7603 - accuracy: 0.7347\n",
      "Epoch 8/20\n",
      "1563/1563 [==============================] - 6s 4ms/step - loss: 0.7207 - accuracy: 0.7480\n",
      "Epoch 9/20\n",
      "1563/1563 [==============================] - 6s 4ms/step - loss: 0.6811 - accuracy: 0.7617\n",
      "Epoch 10/20\n",
      "1563/1563 [==============================] - 6s 4ms/step - loss: 0.6445 - accuracy: 0.7747\n",
      "Epoch 11/20\n",
      "1563/1563 [==============================] - 6s 4ms/step - loss: 0.6145 - accuracy: 0.7855\n",
      "Epoch 12/20\n",
      "1563/1563 [==============================] - 6s 4ms/step - loss: 0.5793 - accuracy: 0.7980\n",
      "Epoch 13/20\n",
      "1563/1563 [==============================] - 6s 4ms/step - loss: 0.5526 - accuracy: 0.8083\n",
      "Epoch 14/20\n",
      "1563/1563 [==============================] - 5s 3ms/step - loss: 0.5226 - accuracy: 0.8177\n",
      "Epoch 15/20\n",
      "1563/1563 [==============================] - 6s 4ms/step - loss: 0.4978 - accuracy: 0.8236\n",
      "Epoch 16/20\n",
      "1563/1563 [==============================] - 6s 4ms/step - loss: 0.4715 - accuracy: 0.8341\n",
      "Epoch 17/20\n",
      "1563/1563 [==============================] - 6s 4ms/step - loss: 0.4491 - accuracy: 0.8415\n",
      "Epoch 18/20\n",
      "1563/1563 [==============================] - 6s 4ms/step - loss: 0.4316 - accuracy: 0.8477\n",
      "Epoch 19/20\n",
      "1563/1563 [==============================] - 6s 4ms/step - loss: 0.4116 - accuracy: 0.8550\n",
      "Epoch 20/20\n",
      "1563/1563 [==============================] - 6s 4ms/step - loss: 0.3885 - accuracy: 0.8620\n"
     ]
    },
    {
     "data": {
      "text/plain": [
       "<keras.callbacks.History at 0x1c8ec69d940>"
      ]
     },
     "execution_count": 45,
     "metadata": {},
     "output_type": "execute_result"
    }
   ],
   "source": [
    "cnn.fit(X_train, y_train, epochs=20)"
   ]
  },
  {
   "cell_type": "markdown",
   "metadata": {},
   "source": [
    "<i>With CNN, at the end 20 epochs, accuracy is around 86% which is a significant improvement over ANN. Also computation is much less compared to simple ANN as maxpooling reduces the image dimensions while still preserving the features.</i>"
   ]
  },
  {
   "cell_type": "markdown",
   "metadata": {},
   "source": [
    "<h4><strong>Testing the model</strong></h4>"
   ]
  },
  {
   "cell_type": "code",
   "execution_count": 47,
   "metadata": {},
   "outputs": [
    {
     "name": "stdout",
     "output_type": "stream",
     "text": [
      "313/313 [==============================] - 1s 1ms/step\n"
     ]
    },
    {
     "data": {
      "text/plain": [
       "array([[1.21693779e-06, 4.85283749e-07, 4.27841906e-06, 9.92019355e-01,\n",
       "        1.88759668e-06, 7.96923693e-03, 1.83967074e-06, 2.05306727e-09,\n",
       "        1.70913734e-06, 1.18037304e-08],\n",
       "       [2.02334854e-06, 6.41295162e-04, 3.19163272e-12, 4.08760074e-11,\n",
       "        2.46622731e-12, 7.32646971e-16, 1.83477417e-11, 1.78132736e-16,\n",
       "        9.99356568e-01, 8.00394062e-08],\n",
       "       [2.47977581e-02, 2.17410587e-02, 5.32428894e-05, 1.43205994e-04,\n",
       "        6.81427309e-07, 2.06498248e-06, 1.04157669e-04, 9.47944936e-05,\n",
       "        9.52650428e-01, 4.12586116e-04],\n",
       "       [3.58724952e-01, 7.35355788e-05, 7.99329877e-02, 6.27459667e-04,\n",
       "        2.23529714e-05, 1.96573183e-05, 5.46323099e-05, 4.31742956e-05,\n",
       "        5.60498953e-01, 2.35238235e-06],\n",
       "       [1.31737863e-07, 2.19197275e-07, 1.12563386e-04, 1.29507789e-02,\n",
       "        4.33894038e-01, 3.34864366e-04, 5.52707314e-01, 1.25946878e-10,\n",
       "        7.50749294e-08, 1.00567894e-10]], dtype=float32)"
      ]
     },
     "execution_count": 47,
     "metadata": {},
     "output_type": "execute_result"
    }
   ],
   "source": [
    "y_pred = cnn.predict(X_test)\n",
    "y_pred[:5]"
   ]
  },
  {
   "cell_type": "code",
   "execution_count": 48,
   "metadata": {},
   "outputs": [
    {
     "data": {
      "text/plain": [
       "[3, 8, 8, 8, 6]"
      ]
     },
     "execution_count": 48,
     "metadata": {},
     "output_type": "execute_result"
    }
   ],
   "source": [
    "y_classes = [np.argmax(element) for element in y_pred]\n",
    "y_classes[:5]"
   ]
  },
  {
   "cell_type": "code",
   "execution_count": 49,
   "metadata": {},
   "outputs": [
    {
     "data": {
      "text/plain": [
       "array([3, 8, 8, 0, 6], dtype=uint8)"
      ]
     },
     "execution_count": 49,
     "metadata": {},
     "output_type": "execute_result"
    }
   ],
   "source": [
    "y_test[:5]"
   ]
  },
  {
   "cell_type": "code",
   "execution_count": 50,
   "metadata": {},
   "outputs": [
    {
     "data": {
      "image/png": "[encoded data removed]",
      "text/plain": [
       "<Figure size 1080x144 with 1 Axes>"
      ]
     },
     "metadata": {
      "needs_background": "light"
     },
     "output_type": "display_data"
    }
   ],
   "source": [
    "plot_sample(X_test, y_test,3)"
   ]
  },
  {
   "cell_type": "code",
   "execution_count": 51,
   "metadata": {},
   "outputs": [
    {
     "data": {
      "text/plain": [
       "'ship'"
      ]
     },
     "execution_count": 51,
     "metadata": {},
     "output_type": "execute_result"
    }
   ],
   "source": [
    "classes[y_classes[3]]"
   ]
  }
 ],
 "metadata": {
  "interpreter": {
   "hash": "ce0f832bc7e3fd800bb6826af0c56dd4aa2e572acf4594e183904857a50ee7ea"
  },
  "kernelspec": {
   "display_name": "Python 3.9.12 ('tensorflow-gpu')",
   "language": "python",
   "name": "python3"
  },
  "language_info": {
   "codemirror_mode": {
    "name": "ipython",
    "version": 3
   },
   "file_extension": ".py",
   "mimetype": "text/x-python",
   "name": "python",
   "nbconvert_exporter": "python",
   "pygments_lexer": "ipython3",
   "version": "3.9.12"
  }
 },
 "nbformat": 4,
 "nbformat_minor": 4
}
