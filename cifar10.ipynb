{
 "cells": [
  {
   "cell_type": "markdown",
   "metadata": {},
   "source": [
    "<h4 align='center'><strong>Image Recognition using Neural Networks and GPU/CPU Benchmarking</strong></h4>"
   ]
  },
  {
   "cell_type": "markdown",
   "metadata": {},
   "source": [
    "Importing Dependancies"
   ]
  },
  {
   "cell_type": "code",
   "execution_count": 1,
   "metadata": {},
   "outputs": [],
   "source": [
    "import tensorflow as tf\n",
    "from tensorflow.keras import datasets, layers, models\n",
    "from sklearn.metrics import confusion_matrix , classification_report\n",
    "import matplotlib.pyplot as plt\n",
    "import numpy as np"
   ]
  },
  {
   "cell_type": "markdown",
   "metadata": {},
   "source": [
    "Loading the Data"
   ]
  },
  {
   "cell_type": "code",
   "execution_count": 2,
   "metadata": {},
   "outputs": [
    {
     "data": {
      "text/plain": [
       "(50000, 32, 32, 3)"
      ]
     },
     "execution_count": 2,
     "metadata": {},
     "output_type": "execute_result"
    }
   ],
   "source": [
    "(X_train, y_train), (X_test,y_test) = datasets.cifar10.load_data()\n",
    "X_train.shape"
   ]
  },
  {
   "cell_type": "code",
   "execution_count": 3,
   "metadata": {},
   "outputs": [
    {
     "data": {
      "text/plain": [
       "(10000, 32, 32, 3)"
      ]
     },
     "execution_count": 3,
     "metadata": {},
     "output_type": "execute_result"
    }
   ],
   "source": [
    "X_test.shape"
   ]
  },
  {
   "cell_type": "markdown",
   "metadata": {},
   "source": [
    "<i>We have 50000 training images and 10000 test images</i>"
   ]
  },
  {
   "cell_type": "code",
   "execution_count": 4,
   "metadata": {},
   "outputs": [
    {
     "data": {
      "text/plain": [
       "(50000, 1)"
      ]
     },
     "execution_count": 4,
     "metadata": {},
     "output_type": "execute_result"
    }
   ],
   "source": [
    "y_train.shape"
   ]
  },
  {
   "cell_type": "code",
   "execution_count": 5,
   "metadata": {},
   "outputs": [
    {
     "data": {
      "text/plain": [
       "array([[6],\n",
       "       [9],\n",
       "       [9],\n",
       "       [4],\n",
       "       [1]], dtype=uint8)"
      ]
     },
     "execution_count": 5,
     "metadata": {},
     "output_type": "execute_result"
    }
   ],
   "source": [
    "y_train[:5]"
   ]
  },
  {
   "cell_type": "markdown",
   "metadata": {},
   "source": [
    "<i>y_train is a 2D array, but for our purpose we require 1D array to feed the neurons. So we will convert y_train into a 1D array</i>"
   ]
  },
  {
   "cell_type": "code",
   "execution_count": 6,
   "metadata": {
    "scrolled": true
   },
   "outputs": [
    {
     "data": {
      "text/plain": [
       "array([6, 9, 9, 4, 1], dtype=uint8)"
      ]
     },
     "execution_count": 6,
     "metadata": {},
     "output_type": "execute_result"
    }
   ],
   "source": [
    "y_train = y_train.reshape(-1,)\n",
    "y_train[:5]"
   ]
  },
  {
   "cell_type": "markdown",
   "metadata": {},
   "source": [
    "<i>Similarly we convert y_test into 1D array</i>"
   ]
  },
  {
   "cell_type": "code",
   "execution_count": 7,
   "metadata": {},
   "outputs": [],
   "source": [
    "y_test = y_test.reshape(-1,)"
   ]
  },
  {
   "cell_type": "code",
   "execution_count": 8,
   "metadata": {},
   "outputs": [],
   "source": [
    "# defining the classes\n",
    "classes = [\"airplane\",\"automobile\",\"bird\",\"cat\",\"deer\",\"dog\",\"frog\",\"horse\",\"ship\",\"truck\"]"
   ]
  },
  {
   "cell_type": "markdown",
   "metadata": {},
   "source": [
    "Data Visualization"
   ]
  },
  {
   "cell_type": "code",
   "execution_count": 9,
   "metadata": {},
   "outputs": [],
   "source": [
    "def plot_sample(X, y, index):\n",
    "    plt.figure(figsize = (15,2))\n",
    "    plt.imshow(X[index])\n",
    "    plt.xlabel(classes[y[index]])"
   ]
  },
  {
   "cell_type": "code",
   "execution_count": 10,
   "metadata": {
    "scrolled": true
   },
   "outputs": [
    {
     "data": {
      "image/png": "[encoded data removed]",
      "text/plain": [
       "<Figure size 1080x144 with 1 Axes>"
      ]
     },
     "metadata": {
      "needs_background": "light"
     },
     "output_type": "display_data"
    }
   ],
   "source": [
    "plot_sample(X_train, y_train, 0)"
   ]
  },
  {
   "cell_type": "code",
   "execution_count": 11,
   "metadata": {},
   "outputs": [
    {
     "data": {
      "image/png": "[encoded data removed]",
      "text/plain": [
       "<Figure size 1080x144 with 1 Axes>"
      ]
     },
     "metadata": {
      "needs_background": "light"
     },
     "output_type": "display_data"
    }
   ],
   "source": [
    "plot_sample(X_train, y_train, 1)"
   ]
  },
  {
   "cell_type": "markdown",
   "metadata": {},
   "source": [
    "Data Preprocessing"
   ]
  },
  {
   "cell_type": "markdown",
   "metadata": {},
   "source": [
    "<i>Image has 3 channels (R,G,B) and each value in the channel can range from 0 to 255. Hence to normalize in 0 to 1 range, we need to divide it by 255. Normalization increases the accuracy of the model</i>"
   ]
  },
  {
   "cell_type": "code",
   "execution_count": 12,
   "metadata": {},
   "outputs": [],
   "source": [
    "X_train = X_train / 255.0\n",
    "X_test = X_test / 255.0"
   ]
  },
  {
   "cell_type": "markdown",
   "metadata": {},
   "source": [
    "<h4><strong>Building an Artificial Neural Network for Image Classification</strong></h4>"
   ]
  },
  {
   "cell_type": "code",
   "execution_count": 13,
   "metadata": {
    "scrolled": true
   },
   "outputs": [],
   "source": [
    "def get_model():\n",
    "    ann = models.Sequential([\n",
    "            layers.Flatten(input_shape=(32,32,3)),\n",
    "            layers.Dense(3000, activation='relu'),\n",
    "            layers.Dense(1000, activation='relu'),\n",
    "            layers.Dense(10, activation='softmax')    \n",
    "        ])\n",
    "\n",
    "    ann.compile(optimizer='SGD', loss='sparse_categorical_crossentropy', metrics=['accuracy'])\n",
    "    return ann"
   ]
  },
  {
   "cell_type": "markdown",
   "metadata": {},
   "source": [
    "GPU/CPU Benchmarking and Classification Report"
   ]
  },
  {
   "cell_type": "code",
   "execution_count": 14,
   "metadata": {},
   "outputs": [
    {
     "data": {
      "text/plain": [
       "[PhysicalDevice(name='/physical_device:CPU:0', device_type='CPU'),\n",
       " PhysicalDevice(name='/physical_device:GPU:0', device_type='GPU')]"
      ]
     },
     "execution_count": 14,
     "metadata": {},
     "output_type": "execute_result"
    }
   ],
   "source": [
    "tf.config.experimental.list_physical_devices()"
   ]
  },
  {
   "cell_type": "code",
   "execution_count": 15,
   "metadata": {},
   "outputs": [
    {
     "data": {
      "text/plain": [
       "True"
      ]
     },
     "execution_count": 15,
     "metadata": {},
     "output_type": "execute_result"
    }
   ],
   "source": [
    "tf.test.is_built_with_cuda()"
   ]
  },
  {
   "cell_type": "markdown",
   "metadata": {},
   "source": [
    "<i>Training on CPU - Ryzen 7 5800h</i>"
   ]
  },
  {
   "cell_type": "code",
   "execution_count": 16,
   "metadata": {},
   "outputs": [
    {
     "name": "stdout",
     "output_type": "stream",
     "text": [
      "Epoch 1/20\n",
      "1563/1563 [==============================] - 55s 35ms/step - loss: 1.8116 - accuracy: 0.3564\n",
      "Epoch 2/20\n",
      "1563/1563 [==============================] - 54s 34ms/step - loss: 1.6230 - accuracy: 0.4280\n",
      "Epoch 3/20\n",
      "1563/1563 [==============================] - 53s 34ms/step - loss: 1.5380 - accuracy: 0.4567\n",
      "Epoch 4/20\n",
      "1563/1563 [==============================] - 53s 34ms/step - loss: 1.4794 - accuracy: 0.4805\n",
      "Epoch 5/20\n",
      "1563/1563 [==============================] - 54s 35ms/step - loss: 1.4315 - accuracy: 0.4955\n",
      "Epoch 6/20\n",
      "1563/1563 [==============================] - 53s 34ms/step - loss: 1.3859 - accuracy: 0.5127\n",
      "Epoch 7/20\n",
      "1563/1563 [==============================] - 54s 35ms/step - loss: 1.3492 - accuracy: 0.5271\n",
      "Epoch 8/20\n",
      "1563/1563 [==============================] - 55s 35ms/step - loss: 1.3146 - accuracy: 0.5385\n",
      "Epoch 9/20\n",
      "1563/1563 [==============================] - 53s 34ms/step - loss: 1.2835 - accuracy: 0.5491\n",
      "Epoch 10/20\n",
      "1563/1563 [==============================] - 53s 34ms/step - loss: 1.2513 - accuracy: 0.5613\n",
      "Epoch 11/20\n",
      "1563/1563 [==============================] - 54s 34ms/step - loss: 1.2225 - accuracy: 0.5728\n",
      "Epoch 12/20\n",
      "1563/1563 [==============================] - 53s 34ms/step - loss: 1.1941 - accuracy: 0.5807\n",
      "Epoch 13/20\n",
      "1563/1563 [==============================] - 53s 34ms/step - loss: 1.1666 - accuracy: 0.5927\n",
      "Epoch 14/20\n",
      "1563/1563 [==============================] - 53s 34ms/step - loss: 1.1394 - accuracy: 0.6008\n",
      "Epoch 15/20\n",
      "1563/1563 [==============================] - 53s 34ms/step - loss: 1.1123 - accuracy: 0.6113\n",
      "Epoch 16/20\n",
      "1563/1563 [==============================] - 53s 34ms/step - loss: 1.0872 - accuracy: 0.6214\n",
      "Epoch 17/20\n",
      "1563/1563 [==============================] - 55s 35ms/step - loss: 1.0586 - accuracy: 0.6310\n",
      "Epoch 18/20\n",
      "1563/1563 [==============================] - 53s 34ms/step - loss: 1.0341 - accuracy: 0.6394\n",
      "Epoch 19/20\n",
      "1563/1563 [==============================] - 53s 34ms/step - loss: 1.0096 - accuracy: 0.6485\n",
      "Epoch 20/20\n",
      "1563/1563 [==============================] - 54s 34ms/step - loss: 0.9811 - accuracy: 0.6583\n",
      "17min 52s ± 0 ns per loop (mean ± std. dev. of 1 run, 1 loop each)\n"
     ]
    }
   ],
   "source": [
    "%%timeit -n1 -r1 \n",
    "with tf.device('/CPU:0'):\n",
    "    cpu_model = get_model()\n",
    "    cpu_model.fit(X_train, y_train, epochs=20)"
   ]
  },
  {
   "cell_type": "markdown",
   "metadata": {},
   "source": [
    "<i>Training on GPU - Nvidia RTX 3060</i>"
   ]
  },
  {
   "cell_type": "code",
   "execution_count": 17,
   "metadata": {},
   "outputs": [
    {
     "name": "stdout",
     "output_type": "stream",
     "text": [
      "Epoch 1/20\n",
      "1563/1563 [==============================] - 7s 3ms/step - loss: 1.8092 - accuracy: 0.3564\n",
      "Epoch 2/20\n",
      "1563/1563 [==============================] - 4s 3ms/step - loss: 1.6206 - accuracy: 0.4300\n",
      "Epoch 3/20\n",
      "1563/1563 [==============================] - 5s 3ms/step - loss: 1.5416 - accuracy: 0.4558\n",
      "Epoch 4/20\n",
      "1563/1563 [==============================] - 4s 3ms/step - loss: 1.4825 - accuracy: 0.4776\n",
      "Epoch 5/20\n",
      "1563/1563 [==============================] - 4s 3ms/step - loss: 1.4317 - accuracy: 0.4965\n",
      "Epoch 6/20\n",
      "1563/1563 [==============================] - 4s 3ms/step - loss: 1.3907 - accuracy: 0.5127\n",
      "Epoch 7/20\n",
      "1563/1563 [==============================] - 4s 3ms/step - loss: 1.3532 - accuracy: 0.5281\n",
      "Epoch 8/20\n",
      "1563/1563 [==============================] - 4s 3ms/step - loss: 1.3168 - accuracy: 0.5401\n",
      "Epoch 9/20\n",
      "1563/1563 [==============================] - 4s 3ms/step - loss: 1.2850 - accuracy: 0.5483\n",
      "Epoch 10/20\n",
      "1563/1563 [==============================] - 4s 3ms/step - loss: 1.2539 - accuracy: 0.5607\n",
      "Epoch 11/20\n",
      "1563/1563 [==============================] - 4s 3ms/step - loss: 1.2227 - accuracy: 0.5717\n",
      "Epoch 12/20\n",
      "1563/1563 [==============================] - 4s 3ms/step - loss: 1.1950 - accuracy: 0.5799\n",
      "Epoch 13/20\n",
      "1563/1563 [==============================] - 4s 3ms/step - loss: 1.1674 - accuracy: 0.5932\n",
      "Epoch 14/20\n",
      "1563/1563 [==============================] - 4s 3ms/step - loss: 1.1413 - accuracy: 0.5996\n",
      "Epoch 15/20\n",
      "1563/1563 [==============================] - 4s 3ms/step - loss: 1.1127 - accuracy: 0.6111\n",
      "Epoch 16/20\n",
      "1563/1563 [==============================] - 4s 3ms/step - loss: 1.0873 - accuracy: 0.6201\n",
      "Epoch 17/20\n",
      "1563/1563 [==============================] - 5s 3ms/step - loss: 1.0602 - accuracy: 0.6309\n",
      "Epoch 18/20\n",
      "1563/1563 [==============================] - 4s 3ms/step - loss: 1.0353 - accuracy: 0.6415\n",
      "Epoch 19/20\n",
      "1563/1563 [==============================] - 4s 3ms/step - loss: 1.0088 - accuracy: 0.6519\n",
      "Epoch 20/20\n",
      "1563/1563 [==============================] - 4s 3ms/step - loss: 0.9840 - accuracy: 0.6612\n",
      "313/313 [==============================] - 0s 1ms/step\n",
      "Classification Report: \n",
      "               precision    recall  f1-score   support\n",
      "\n",
      "           0       0.56      0.68      0.61      1000\n",
      "           1       0.55      0.80      0.65      1000\n",
      "           2       0.35      0.58      0.43      1000\n",
      "           3       0.48      0.16      0.24      1000\n",
      "           4       0.50      0.43      0.46      1000\n",
      "           5       0.44      0.47      0.45      1000\n",
      "           6       0.50      0.72      0.59      1000\n",
      "           7       0.81      0.42      0.55      1000\n",
      "           8       0.67      0.66      0.67      1000\n",
      "           9       0.75      0.34      0.46      1000\n",
      "\n",
      "    accuracy                           0.53     10000\n",
      "   macro avg       0.56      0.53      0.51     10000\n",
      "weighted avg       0.56      0.53      0.51     10000\n",
      "\n",
      "1min 37s ± 0 ns per loop (mean ± std. dev. of 1 run, 1 loop each)\n"
     ]
    }
   ],
   "source": [
    "%%timeit -n1 -r1 \n",
    "with tf.device('/GPU:0'):\n",
    "    gpu_model = get_model()\n",
    "    gpu_model.fit(X_train, y_train, epochs=20)\n",
    "    \n",
    "    # for classification report\n",
    "    y_pred = gpu_model.predict(X_test)\n",
    "    y_pred_classes = [np.argmax(element) for element in y_pred]\n",
    "\n",
    "print(\"Classification Report: \\n\", classification_report(y_test, y_pred_classes))"
   ]
  },
  {
   "cell_type": "markdown",
   "metadata": {},
   "source": [
    "Here is the performance comparison for training time of 20 epoch on CPU and GPU.\n",
    "\n",
    "| Epoch | CPU | GPU  |\n",
    "|:------|:------|:------|\n",
    "| 20 | 17 min 52 sec | 1 min 37 sec |\n",
    "\n",
    "In this case, we can see that GPU training is almost 11 times faster than CPU training. "
   ]
  },
  {
   "cell_type": "markdown",
   "metadata": {},
   "source": [
    "<i>With ANN, we get an accuracy of 66% at the end of 20 epochs.</i>"
   ]
  },
  {
   "cell_type": "markdown",
   "metadata": {},
   "source": [
    "<h4><strong>Building a Convolutional Neural Network for Image classification</strong></h4>"
   ]
  },
  {
   "cell_type": "code",
   "execution_count": 18,
   "metadata": {},
   "outputs": [
    {
     "name": "stdout",
     "output_type": "stream",
     "text": [
      "Epoch 1/20\n",
      "1563/1563 [==============================] - 13s 4ms/step - loss: 1.4537 - accuracy: 0.4766\n",
      "Epoch 2/20\n",
      "1563/1563 [==============================] - 6s 4ms/step - loss: 1.1073 - accuracy: 0.6127\n",
      "Epoch 3/20\n",
      "1563/1563 [==============================] - 6s 4ms/step - loss: 0.9839 - accuracy: 0.6570\n",
      "Epoch 4/20\n",
      "1563/1563 [==============================] - 6s 4ms/step - loss: 0.9040 - accuracy: 0.6853\n",
      "Epoch 5/20\n",
      "1563/1563 [==============================] - 6s 4ms/step - loss: 0.8361 - accuracy: 0.7094\n",
      "Epoch 6/20\n",
      "1563/1563 [==============================] - 6s 4ms/step - loss: 0.7844 - accuracy: 0.7297\n",
      "Epoch 7/20\n",
      "1563/1563 [==============================] - 6s 4ms/step - loss: 0.7361 - accuracy: 0.7451\n",
      "Epoch 8/20\n",
      "1563/1563 [==============================] - 6s 4ms/step - loss: 0.6945 - accuracy: 0.7579\n",
      "Epoch 9/20\n",
      "1563/1563 [==============================] - 5s 4ms/step - loss: 0.6531 - accuracy: 0.7729\n",
      "Epoch 10/20\n",
      "1563/1563 [==============================] - 5s 3ms/step - loss: 0.6153 - accuracy: 0.7861\n",
      "Epoch 11/20\n",
      "1563/1563 [==============================] - 6s 4ms/step - loss: 0.5835 - accuracy: 0.7961\n",
      "Epoch 12/20\n",
      "1563/1563 [==============================] - 6s 4ms/step - loss: 0.5456 - accuracy: 0.8099\n",
      "Epoch 13/20\n",
      "1563/1563 [==============================] - 6s 4ms/step - loss: 0.5110 - accuracy: 0.8203\n",
      "Epoch 14/20\n",
      "1563/1563 [==============================] - 5s 4ms/step - loss: 0.4839 - accuracy: 0.8319\n",
      "Epoch 15/20\n",
      "1563/1563 [==============================] - 5s 3ms/step - loss: 0.4523 - accuracy: 0.8412\n",
      "Epoch 16/20\n",
      "1563/1563 [==============================] - 5s 3ms/step - loss: 0.4247 - accuracy: 0.8510\n",
      "Epoch 17/20\n",
      "1563/1563 [==============================] - 6s 4ms/step - loss: 0.3993 - accuracy: 0.8585\n",
      "Epoch 18/20\n",
      "1563/1563 [==============================] - 6s 4ms/step - loss: 0.3690 - accuracy: 0.8700\n",
      "Epoch 19/20\n",
      "1563/1563 [==============================] - 6s 4ms/step - loss: 0.3512 - accuracy: 0.8754\n",
      "Epoch 20/20\n",
      "1563/1563 [==============================] - 6s 4ms/step - loss: 0.3265 - accuracy: 0.8849\n"
     ]
    },
    {
     "data": {
      "text/plain": [
       "<keras.callbacks.History at 0x18dcba51280>"
      ]
     },
     "execution_count": 18,
     "metadata": {},
     "output_type": "execute_result"
    }
   ],
   "source": [
    "cnn = models.Sequential([\n",
    "    layers.Conv2D(filters=32, kernel_size=(3, 3), activation='relu', input_shape=(32, 32, 3)),\n",
    "    layers.MaxPooling2D((2, 2)),\n",
    "    \n",
    "    layers.Conv2D(filters=64, kernel_size=(3, 3), activation='relu'),\n",
    "    layers.MaxPooling2D((2, 2)),\n",
    "    \n",
    "    layers.Flatten(),\n",
    "    layers.Dense(64, activation='relu'),\n",
    "    layers.Dense(10, activation='softmax')\n",
    "])\n",
    "\n",
    "cnn.compile(optimizer='adam', loss='sparse_categorical_crossentropy', metrics=['accuracy'])\n",
    "\n",
    "cnn.fit(X_train, y_train, epochs=20)"
   ]
  },
  {
   "cell_type": "markdown",
   "metadata": {},
   "source": [
    "Classification Report"
   ]
  },
  {
   "cell_type": "code",
   "execution_count": 19,
   "metadata": {},
   "outputs": [
    {
     "name": "stdout",
     "output_type": "stream",
     "text": [
      "313/313 [==============================] - 1s 2ms/step\n",
      "Classification Report: \n",
      "               precision    recall  f1-score   support\n",
      "\n",
      "           0       0.65      0.80      0.72      1000\n",
      "           1       0.80      0.78      0.79      1000\n",
      "           2       0.65      0.50      0.57      1000\n",
      "           3       0.44      0.58      0.50      1000\n",
      "           4       0.64      0.60      0.62      1000\n",
      "           5       0.59      0.55      0.57      1000\n",
      "           6       0.73      0.76      0.74      1000\n",
      "           7       0.69      0.76      0.72      1000\n",
      "           8       0.85      0.72      0.78      1000\n",
      "           9       0.83      0.71      0.76      1000\n",
      "\n",
      "    accuracy                           0.68     10000\n",
      "   macro avg       0.69      0.68      0.68     10000\n",
      "weighted avg       0.69      0.68      0.68     10000\n",
      "\n"
     ]
    }
   ],
   "source": [
    "y_pred = cnn.predict(X_test)\n",
    "y_pred_classes = [np.argmax(element) for element in y_pred]\n",
    "\n",
    "print(\"Classification Report: \\n\", classification_report(y_test, y_pred_classes))"
   ]
  },
  {
   "cell_type": "markdown",
   "metadata": {},
   "source": [
    "<i>With CNN, at the end 20 epochs, the accuracy is around 88% which is a significant improvement over ANN. Also computation is much less compared to simple ANN as maxpooling reduces the image dimensions while still preserving the features.</i>"
   ]
  }
 ],
 "metadata": {
  "interpreter": {
   "hash": "ce0f832bc7e3fd800bb6826af0c56dd4aa2e572acf4594e183904857a50ee7ea"
  },
  "kernelspec": {
   "display_name": "Python 3.9.12 ('tensorflow-gpu')",
   "language": "python",
   "name": "python3"
  },
  "language_info": {
   "codemirror_mode": {
    "name": "ipython",
    "version": 3
   },
   "file_extension": ".py",
   "mimetype": "text/x-python",
   "name": "python",
   "nbconvert_exporter": "python",
   "pygments_lexer": "ipython3",
   "version": "3.9.12"
  }
 },
 "nbformat": 4,
 "nbformat_minor": 4
}
